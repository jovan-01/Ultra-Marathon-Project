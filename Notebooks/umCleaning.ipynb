{
 "cells": [
  {
   "cell_type": "markdown",
   "id": "1469f7c3-bf30-4e93-aa31-bd30233e2da8",
   "metadata": {},
   "source": [
    "# Ultra Marathon Project"
   ]
  },
  {
   "cell_type": "markdown",
   "id": "94aabaee-698a-4c08-897a-94ddf1e5ff9b",
   "metadata": {},
   "source": [
    "### Import Libraries"
   ]
  },
  {
   "cell_type": "code",
   "execution_count": 143,
   "id": "dcb905a3-48d5-45d7-ab00-b211db7cc8b5",
   "metadata": {},
   "outputs": [],
   "source": [
    "import pandas as pd\n",
    "import seaborn as sns"
   ]
  },
  {
   "cell_type": "markdown",
   "id": "725a4bb3-e792-4268-9ab0-ca8e1ae10e50",
   "metadata": {},
   "source": [
    "### First Look"
   ]
  },
  {
   "cell_type": "code",
   "execution_count": 146,
   "id": "8a5791a5-4f80-443c-a779-c903782b1473",
   "metadata": {},
   "outputs": [
    {
     "name": "stderr",
     "output_type": "stream",
     "text": [
      "/var/folders/by/4dfr5wv56g9c4s2hr4sjrcw00000gn/T/ipykernel_95409/107228863.py:1: DtypeWarning: Columns (11) have mixed types. Specify dtype option on import or set low_memory=False.\n",
      "  df = pd.read_csv('TWO_CENTURIES_OF_UM_RACES.csv')\n"
     ]
    }
   ],
   "source": [
    "df = pd.read_csv('TWO_CENTURIES_OF_UM_RACES.csv')"
   ]
  },
  {
   "cell_type": "code",
   "execution_count": 147,
   "id": "9fd8ec63-e123-4c8e-a6cc-b0973946a816",
   "metadata": {},
   "outputs": [
    {
     "data": {
      "text/html": [
       "<div>\n",
       "<style scoped>\n",
       "    .dataframe tbody tr th:only-of-type {\n",
       "        vertical-align: middle;\n",
       "    }\n",
       "\n",
       "    .dataframe tbody tr th {\n",
       "        vertical-align: top;\n",
       "    }\n",
       "\n",
       "    .dataframe thead th {\n",
       "        text-align: right;\n",
       "    }\n",
       "</style>\n",
       "<table border=\"1\" class=\"dataframe\">\n",
       "  <thead>\n",
       "    <tr style=\"text-align: right;\">\n",
       "      <th></th>\n",
       "      <th>Year of event</th>\n",
       "      <th>Event dates</th>\n",
       "      <th>Event name</th>\n",
       "      <th>Event distance/length</th>\n",
       "      <th>Event number of finishers</th>\n",
       "      <th>Athlete performance</th>\n",
       "      <th>Athlete club</th>\n",
       "      <th>Athlete country</th>\n",
       "      <th>Athlete year of birth</th>\n",
       "      <th>Athlete gender</th>\n",
       "      <th>Athlete age category</th>\n",
       "      <th>Athlete average speed</th>\n",
       "      <th>Athlete ID</th>\n",
       "    </tr>\n",
       "  </thead>\n",
       "  <tbody>\n",
       "    <tr>\n",
       "      <th>0</th>\n",
       "      <td>2018</td>\n",
       "      <td>06.01.2018</td>\n",
       "      <td>Selva Costera (CHI)</td>\n",
       "      <td>50km</td>\n",
       "      <td>22</td>\n",
       "      <td>4:51:39 h</td>\n",
       "      <td>Tnfrc</td>\n",
       "      <td>CHI</td>\n",
       "      <td>1978.0</td>\n",
       "      <td>M</td>\n",
       "      <td>M35</td>\n",
       "      <td>10.286</td>\n",
       "      <td>0</td>\n",
       "    </tr>\n",
       "    <tr>\n",
       "      <th>1</th>\n",
       "      <td>2018</td>\n",
       "      <td>06.01.2018</td>\n",
       "      <td>Selva Costera (CHI)</td>\n",
       "      <td>50km</td>\n",
       "      <td>22</td>\n",
       "      <td>5:15:45 h</td>\n",
       "      <td>Roberto Echeverría</td>\n",
       "      <td>CHI</td>\n",
       "      <td>1981.0</td>\n",
       "      <td>M</td>\n",
       "      <td>M35</td>\n",
       "      <td>9.501</td>\n",
       "      <td>1</td>\n",
       "    </tr>\n",
       "    <tr>\n",
       "      <th>2</th>\n",
       "      <td>2018</td>\n",
       "      <td>06.01.2018</td>\n",
       "      <td>Selva Costera (CHI)</td>\n",
       "      <td>50km</td>\n",
       "      <td>22</td>\n",
       "      <td>5:16:44 h</td>\n",
       "      <td>Puro Trail Osorno</td>\n",
       "      <td>CHI</td>\n",
       "      <td>1987.0</td>\n",
       "      <td>M</td>\n",
       "      <td>M23</td>\n",
       "      <td>9.472</td>\n",
       "      <td>2</td>\n",
       "    </tr>\n",
       "    <tr>\n",
       "      <th>3</th>\n",
       "      <td>2018</td>\n",
       "      <td>06.01.2018</td>\n",
       "      <td>Selva Costera (CHI)</td>\n",
       "      <td>50km</td>\n",
       "      <td>22</td>\n",
       "      <td>5:34:13 h</td>\n",
       "      <td>Columbia</td>\n",
       "      <td>ARG</td>\n",
       "      <td>1976.0</td>\n",
       "      <td>M</td>\n",
       "      <td>M40</td>\n",
       "      <td>8.976</td>\n",
       "      <td>3</td>\n",
       "    </tr>\n",
       "    <tr>\n",
       "      <th>4</th>\n",
       "      <td>2018</td>\n",
       "      <td>06.01.2018</td>\n",
       "      <td>Selva Costera (CHI)</td>\n",
       "      <td>50km</td>\n",
       "      <td>22</td>\n",
       "      <td>5:54:14 h</td>\n",
       "      <td>Baguales Trail</td>\n",
       "      <td>CHI</td>\n",
       "      <td>1992.0</td>\n",
       "      <td>M</td>\n",
       "      <td>M23</td>\n",
       "      <td>8.469</td>\n",
       "      <td>4</td>\n",
       "    </tr>\n",
       "  </tbody>\n",
       "</table>\n",
       "</div>"
      ],
      "text/plain": [
       "   Year of event Event dates           Event name Event distance/length  \\\n",
       "0           2018  06.01.2018  Selva Costera (CHI)                  50km   \n",
       "1           2018  06.01.2018  Selva Costera (CHI)                  50km   \n",
       "2           2018  06.01.2018  Selva Costera (CHI)                  50km   \n",
       "3           2018  06.01.2018  Selva Costera (CHI)                  50km   \n",
       "4           2018  06.01.2018  Selva Costera (CHI)                  50km   \n",
       "\n",
       "   Event number of finishers Athlete performance        Athlete club  \\\n",
       "0                         22           4:51:39 h               Tnfrc   \n",
       "1                         22           5:15:45 h  Roberto Echeverría   \n",
       "2                         22           5:16:44 h   Puro Trail Osorno   \n",
       "3                         22           5:34:13 h            Columbia   \n",
       "4                         22           5:54:14 h      Baguales Trail   \n",
       "\n",
       "  Athlete country  Athlete year of birth Athlete gender Athlete age category  \\\n",
       "0             CHI                 1978.0              M                  M35   \n",
       "1             CHI                 1981.0              M                  M35   \n",
       "2             CHI                 1987.0              M                  M23   \n",
       "3             ARG                 1976.0              M                  M40   \n",
       "4             CHI                 1992.0              M                  M23   \n",
       "\n",
       "  Athlete average speed  Athlete ID  \n",
       "0                10.286           0  \n",
       "1                 9.501           1  \n",
       "2                 9.472           2  \n",
       "3                 8.976           3  \n",
       "4                 8.469           4  "
      ]
     },
     "execution_count": 147,
     "metadata": {},
     "output_type": "execute_result"
    }
   ],
   "source": [
    "df.head()"
   ]
  },
  {
   "cell_type": "code",
   "execution_count": 148,
   "id": "41757925-25e6-41a6-bb01-e83e4e743f32",
   "metadata": {},
   "outputs": [
    {
     "data": {
      "text/plain": [
       "(7461195, 13)"
      ]
     },
     "execution_count": 148,
     "metadata": {},
     "output_type": "execute_result"
    }
   ],
   "source": [
    "df.shape"
   ]
  },
  {
   "cell_type": "code",
   "execution_count": 149,
   "id": "9233f83e-1a7c-4bed-a603-9600667eb9f1",
   "metadata": {},
   "outputs": [
    {
     "data": {
      "text/plain": [
       "Year of event                  int64\n",
       "Event dates                   object\n",
       "Event name                    object\n",
       "Event distance/length         object\n",
       "Event number of finishers      int64\n",
       "Athlete performance           object\n",
       "Athlete club                  object\n",
       "Athlete country               object\n",
       "Athlete year of birth        float64\n",
       "Athlete gender                object\n",
       "Athlete age category          object\n",
       "Athlete average speed         object\n",
       "Athlete ID                     int64\n",
       "dtype: object"
      ]
     },
     "execution_count": 149,
     "metadata": {},
     "output_type": "execute_result"
    }
   ],
   "source": [
    "df.dtypes"
   ]
  },
  {
   "cell_type": "markdown",
   "id": "b099bece-0beb-44cb-a973-3c805b7f5955",
   "metadata": {},
   "source": [
    "### Cleaning and Filtering"
   ]
  },
  {
   "cell_type": "code",
   "execution_count": 150,
   "id": "1a50cdea-468c-4f0b-8fd4-23979f1f91c2",
   "metadata": {},
   "outputs": [
    {
     "data": {
      "text/plain": [
       "Year of event                      0\n",
       "Event dates                        0\n",
       "Event name                         0\n",
       "Event distance/length           1053\n",
       "Event number of finishers          0\n",
       "Athlete performance                2\n",
       "Athlete club                 2826524\n",
       "Athlete country                    3\n",
       "Athlete year of birth         588161\n",
       "Athlete gender                     7\n",
       "Athlete age category          584938\n",
       "Athlete average speed            224\n",
       "Athlete ID                         0\n",
       "dtype: int64"
      ]
     },
     "execution_count": 150,
     "metadata": {},
     "output_type": "execute_result"
    }
   ],
   "source": [
    "df.isnull().sum()"
   ]
  },
  {
   "cell_type": "code",
   "execution_count": 151,
   "id": "734b6604-9992-45c4-a645-e09e38b8602f",
   "metadata": {},
   "outputs": [],
   "source": [
    "df['month_year'] = df['Event dates'].str.extract(r'(\\d{2}\\.\\d{4})')\n",
    "df['month_year'] = '01.' + df['month_year']\n",
    "df['month_year'] = pd.to_datetime(df['month_year'], format='%d.%m.%Y', errors='coerce')"
   ]
  },
  {
   "cell_type": "code",
   "execution_count": 152,
   "id": "66090ed3-495b-4e56-a9bd-3408fe51cdde",
   "metadata": {},
   "outputs": [],
   "source": [
    "df.drop(['Event dates'], axis = 1, inplace = True)"
   ]
  },
  {
   "cell_type": "code",
   "execution_count": 153,
   "id": "940dff25-da4b-4eb5-86d0-7139626c502a",
   "metadata": {},
   "outputs": [],
   "source": [
    "dfCountry = df[df['Athlete country'].isin (['CAN', 'USA'])]"
   ]
  },
  {
   "cell_type": "code",
   "execution_count": 154,
   "id": "bee51823-ad78-41a6-9188-70a9d69adbf5",
   "metadata": {},
   "outputs": [
    {
     "name": "stdout",
     "output_type": "stream",
     "text": [
      "Latest event date: 2022\n"
     ]
    }
   ],
   "source": [
    "latest_event = df['Year of event'].max()\n",
    "print(\"Latest event date:\", latest_event)"
   ]
  },
  {
   "cell_type": "code",
   "execution_count": 155,
   "id": "b962c052-cf09-4225-9788-50216232de26",
   "metadata": {},
   "outputs": [],
   "source": [
    "dfCountry = dfCountry[dfCountry['Year of event'] >= 1922]"
   ]
  },
  {
   "cell_type": "code",
   "execution_count": 156,
   "id": "2a5bb8c0-647f-4a84-882e-66e47c6e0c8e",
   "metadata": {},
   "outputs": [],
   "source": [
    "dfCountry['Athlete age category'] = dfCountry['Athlete age category'].str.replace(r'\\D+','', regex=True)"
   ]
  },
  {
   "cell_type": "code",
   "execution_count": 157,
   "id": "d8625744-e73b-41bc-9017-2778deec7217",
   "metadata": {},
   "outputs": [],
   "source": [
    "dfCountry.rename(columns={'Athlete age category': 'Athlete Age'}, inplace=True)"
   ]
  },
  {
   "cell_type": "code",
   "execution_count": 158,
   "id": "9a4ff132-de29-41aa-9ed1-f392d83001c6",
   "metadata": {},
   "outputs": [],
   "source": [
    "dfCountry['Athlete Age'] = pd.to_numeric(dfCountry['Athlete Age'], errors='coerce').astype('Int64')"
   ]
  },
  {
   "cell_type": "code",
   "execution_count": 159,
   "id": "6d096e4f-3f84-49f4-bd4a-6fd615d09177",
   "metadata": {},
   "outputs": [],
   "source": [
    "dfCountry['Athlete performance'] = dfCountry['Athlete performance'].str.replace(' h', '', regex=False)"
   ]
  },
  {
   "cell_type": "code",
   "execution_count": 160,
   "id": "287f3b2a-4c2f-4d3e-a421-11c7bfdd2de1",
   "metadata": {},
   "outputs": [],
   "source": [
    "dfCountry.drop(['Athlete club','Athlete year of birth'], axis=1, inplace = True)"
   ]
  },
  {
   "cell_type": "code",
   "execution_count": 108,
   "id": "19b17a3e-7de7-4943-bd68-724b8b939197",
   "metadata": {},
   "outputs": [
    {
     "data": {
      "text/html": [
       "<div>\n",
       "<style scoped>\n",
       "    .dataframe tbody tr th:only-of-type {\n",
       "        vertical-align: middle;\n",
       "    }\n",
       "\n",
       "    .dataframe tbody tr th {\n",
       "        vertical-align: top;\n",
       "    }\n",
       "\n",
       "    .dataframe thead th {\n",
       "        text-align: right;\n",
       "    }\n",
       "</style>\n",
       "<table border=\"1\" class=\"dataframe\">\n",
       "  <thead>\n",
       "    <tr style=\"text-align: right;\">\n",
       "      <th></th>\n",
       "      <th>Year of event</th>\n",
       "      <th>Event name</th>\n",
       "      <th>Event distance/length</th>\n",
       "      <th>Event number of finishers</th>\n",
       "      <th>Athlete performance</th>\n",
       "      <th>Athlete country</th>\n",
       "      <th>Athlete gender</th>\n",
       "      <th>Athlete Age</th>\n",
       "      <th>Athlete average speed</th>\n",
       "      <th>Athlete ID</th>\n",
       "      <th>month_year</th>\n",
       "    </tr>\n",
       "  </thead>\n",
       "  <tbody>\n",
       "    <tr>\n",
       "      <th>1036</th>\n",
       "      <td>2018</td>\n",
       "      <td>Extreme North Dakota Sandhills Ultra Run Exper...</td>\n",
       "      <td>100mi</td>\n",
       "      <td>3</td>\n",
       "      <td>30:27:00</td>\n",
       "      <td>USA</td>\n",
       "      <td>M</td>\n",
       "      <td>23</td>\n",
       "      <td>5.285</td>\n",
       "      <td>1034</td>\n",
       "      <td>2018-03-01</td>\n",
       "    </tr>\n",
       "    <tr>\n",
       "      <th>1037</th>\n",
       "      <td>2018</td>\n",
       "      <td>Extreme North Dakota Sandhills Ultra Run Exper...</td>\n",
       "      <td>100mi</td>\n",
       "      <td>3</td>\n",
       "      <td>46:24:00</td>\n",
       "      <td>USA</td>\n",
       "      <td>F</td>\n",
       "      <td>45</td>\n",
       "      <td>3.468</td>\n",
       "      <td>1035</td>\n",
       "      <td>2018-03-01</td>\n",
       "    </tr>\n",
       "    <tr>\n",
       "      <th>1038</th>\n",
       "      <td>2018</td>\n",
       "      <td>Extreme North Dakota Sandhills Ultra Run Exper...</td>\n",
       "      <td>100mi</td>\n",
       "      <td>3</td>\n",
       "      <td>46:24:00</td>\n",
       "      <td>USA</td>\n",
       "      <td>M</td>\n",
       "      <td>35</td>\n",
       "      <td>3.468</td>\n",
       "      <td>1036</td>\n",
       "      <td>2018-03-01</td>\n",
       "    </tr>\n",
       "    <tr>\n",
       "      <th>1362</th>\n",
       "      <td>2018</td>\n",
       "      <td>Antelope Island Buffalo Run 100 Mile (USA)</td>\n",
       "      <td>100mi</td>\n",
       "      <td>48</td>\n",
       "      <td>15:58:20</td>\n",
       "      <td>USA</td>\n",
       "      <td>M</td>\n",
       "      <td>45</td>\n",
       "      <td>10.076</td>\n",
       "      <td>1360</td>\n",
       "      <td>2018-03-01</td>\n",
       "    </tr>\n",
       "    <tr>\n",
       "      <th>1363</th>\n",
       "      <td>2018</td>\n",
       "      <td>Antelope Island Buffalo Run 100 Mile (USA)</td>\n",
       "      <td>100mi</td>\n",
       "      <td>48</td>\n",
       "      <td>17:27:23</td>\n",
       "      <td>USA</td>\n",
       "      <td>M</td>\n",
       "      <td>40</td>\n",
       "      <td>9.219</td>\n",
       "      <td>1361</td>\n",
       "      <td>2018-03-01</td>\n",
       "    </tr>\n",
       "    <tr>\n",
       "      <th>...</th>\n",
       "      <td>...</td>\n",
       "      <td>...</td>\n",
       "      <td>...</td>\n",
       "      <td>...</td>\n",
       "      <td>...</td>\n",
       "      <td>...</td>\n",
       "      <td>...</td>\n",
       "      <td>...</td>\n",
       "      <td>...</td>\n",
       "      <td>...</td>\n",
       "      <td>...</td>\n",
       "    </tr>\n",
       "    <tr>\n",
       "      <th>7460793</th>\n",
       "      <td>1995</td>\n",
       "      <td>Rocky Raccoon 100 Mile Trail Run (USA)</td>\n",
       "      <td>100mi</td>\n",
       "      <td>36</td>\n",
       "      <td>28:21:15</td>\n",
       "      <td>USA</td>\n",
       "      <td>M</td>\n",
       "      <td>50</td>\n",
       "      <td>5676.0</td>\n",
       "      <td>322730</td>\n",
       "      <td>1995-02-01</td>\n",
       "    </tr>\n",
       "    <tr>\n",
       "      <th>7460794</th>\n",
       "      <td>1995</td>\n",
       "      <td>Rocky Raccoon 100 Mile Trail Run (USA)</td>\n",
       "      <td>100mi</td>\n",
       "      <td>36</td>\n",
       "      <td>28:21:16</td>\n",
       "      <td>USA</td>\n",
       "      <td>F</td>\n",
       "      <td>45</td>\n",
       "      <td>5676.0</td>\n",
       "      <td>1046535</td>\n",
       "      <td>1995-02-01</td>\n",
       "    </tr>\n",
       "    <tr>\n",
       "      <th>7460795</th>\n",
       "      <td>1995</td>\n",
       "      <td>Rocky Raccoon 100 Mile Trail Run (USA)</td>\n",
       "      <td>100mi</td>\n",
       "      <td>36</td>\n",
       "      <td>28:30:34</td>\n",
       "      <td>USA</td>\n",
       "      <td>F</td>\n",
       "      <td>60</td>\n",
       "      <td>5645.0</td>\n",
       "      <td>1046543</td>\n",
       "      <td>1995-02-01</td>\n",
       "    </tr>\n",
       "    <tr>\n",
       "      <th>7460796</th>\n",
       "      <td>1995</td>\n",
       "      <td>Rocky Raccoon 100 Mile Trail Run (USA)</td>\n",
       "      <td>100mi</td>\n",
       "      <td>36</td>\n",
       "      <td>28:39:10</td>\n",
       "      <td>USA</td>\n",
       "      <td>M</td>\n",
       "      <td>45</td>\n",
       "      <td>5617.0</td>\n",
       "      <td>1070305</td>\n",
       "      <td>1995-02-01</td>\n",
       "    </tr>\n",
       "    <tr>\n",
       "      <th>7460797</th>\n",
       "      <td>1995</td>\n",
       "      <td>Rocky Raccoon 100 Mile Trail Run (USA)</td>\n",
       "      <td>100mi</td>\n",
       "      <td>36</td>\n",
       "      <td>29:40:38</td>\n",
       "      <td>USA</td>\n",
       "      <td>M</td>\n",
       "      <td>50</td>\n",
       "      <td>5423.0</td>\n",
       "      <td>1641141</td>\n",
       "      <td>1995-02-01</td>\n",
       "    </tr>\n",
       "  </tbody>\n",
       "</table>\n",
       "<p>117746 rows × 11 columns</p>\n",
       "</div>"
      ],
      "text/plain": [
       "         Year of event                                         Event name  \\\n",
       "1036              2018  Extreme North Dakota Sandhills Ultra Run Exper...   \n",
       "1037              2018  Extreme North Dakota Sandhills Ultra Run Exper...   \n",
       "1038              2018  Extreme North Dakota Sandhills Ultra Run Exper...   \n",
       "1362              2018         Antelope Island Buffalo Run 100 Mile (USA)   \n",
       "1363              2018         Antelope Island Buffalo Run 100 Mile (USA)   \n",
       "...                ...                                                ...   \n",
       "7460793           1995             Rocky Raccoon 100 Mile Trail Run (USA)   \n",
       "7460794           1995             Rocky Raccoon 100 Mile Trail Run (USA)   \n",
       "7460795           1995             Rocky Raccoon 100 Mile Trail Run (USA)   \n",
       "7460796           1995             Rocky Raccoon 100 Mile Trail Run (USA)   \n",
       "7460797           1995             Rocky Raccoon 100 Mile Trail Run (USA)   \n",
       "\n",
       "        Event distance/length  Event number of finishers Athlete performance  \\\n",
       "1036                    100mi                          3            30:27:00   \n",
       "1037                    100mi                          3            46:24:00   \n",
       "1038                    100mi                          3            46:24:00   \n",
       "1362                    100mi                         48            15:58:20   \n",
       "1363                    100mi                         48            17:27:23   \n",
       "...                       ...                        ...                 ...   \n",
       "7460793                 100mi                         36            28:21:15   \n",
       "7460794                 100mi                         36            28:21:16   \n",
       "7460795                 100mi                         36            28:30:34   \n",
       "7460796                 100mi                         36            28:39:10   \n",
       "7460797                 100mi                         36            29:40:38   \n",
       "\n",
       "        Athlete country Athlete gender  Athlete Age Athlete average speed  \\\n",
       "1036                USA              M           23                 5.285   \n",
       "1037                USA              F           45                 3.468   \n",
       "1038                USA              M           35                 3.468   \n",
       "1362                USA              M           45                10.076   \n",
       "1363                USA              M           40                 9.219   \n",
       "...                 ...            ...          ...                   ...   \n",
       "7460793             USA              M           50                5676.0   \n",
       "7460794             USA              F           45                5676.0   \n",
       "7460795             USA              F           60                5645.0   \n",
       "7460796             USA              M           45                5617.0   \n",
       "7460797             USA              M           50                5423.0   \n",
       "\n",
       "         Athlete ID month_year  \n",
       "1036           1034 2018-03-01  \n",
       "1037           1035 2018-03-01  \n",
       "1038           1036 2018-03-01  \n",
       "1362           1360 2018-03-01  \n",
       "1363           1361 2018-03-01  \n",
       "...             ...        ...  \n",
       "7460793      322730 1995-02-01  \n",
       "7460794     1046535 1995-02-01  \n",
       "7460795     1046543 1995-02-01  \n",
       "7460796     1070305 1995-02-01  \n",
       "7460797     1641141 1995-02-01  \n",
       "\n",
       "[117746 rows x 11 columns]"
      ]
     },
     "execution_count": 108,
     "metadata": {},
     "output_type": "execute_result"
    }
   ],
   "source": [
    "#dfCountry[(dfCountry['Event distance/length'] == '100mi') & (dfCountry['Athlete country'] == 'USA')]"
   ]
  },
  {
   "cell_type": "code",
   "execution_count": 46,
   "id": "1ce4dcc6-9c5e-4404-ba5f-1bab8e0e88f3",
   "metadata": {},
   "outputs": [
    {
     "data": {
      "text/plain": [
       "array(['50mi', '50km', '28mi', '164km', '30mi', '82km', '55km', '33mi',\n",
       "       '100mi', '100km', '60mi', '52.9km', '60km', '40mi',\n",
       "       '196km/4Etappen', '48.2km', '45km', '52.6km', '80km', '65km',\n",
       "       '51km', '70km', '33.7mi', '51.4mi', '200km', '150km/3Etappen',\n",
       "       '53km', '40mile', '34mi', '77mi', '42.4mi', '29.3mi', '116mi',\n",
       "       '101km', '75mi', '59.6km', '76km', '250km', '1000mi', '350mi',\n",
       "       '54km', '316km/7Etappen', '47km', '64km', '52km', '85km', '71mi',\n",
       "       '130km/2Etappen', '125km', '111km', '269km', '300km', '28.2mi',\n",
       "       '52mi', '39mi', '110mi/2Etappen', '236km/6Etappen',\n",
       "       '155km/6Etappen', '102km', '87km', '62km', '118mi', '75km', '94km',\n",
       "       '48km', '34.9mi', '135mi', '72km', '45.4km', '108km', '200mi',\n",
       "       '150mi', '128km', '268mi', '56km', '57km', '66km', '46.5mi',\n",
       "       '31mi', '51.8km', '52.4mi', '97mi/3Etappen', '106km', '49.2km',\n",
       "       '46km', '130km', '250km/6Etappen', '84km', '67.5km', '85.5km',\n",
       "       '92km', '115km', '170km', '63.5km', '71km', '61km', '51.7km',\n",
       "       '103km', '58km', '125km/3Etappen', '32.5mi', '88km', '104km',\n",
       "       '33.5mi', '237km/6Etappen', '44.4mi', '35mi', '67km', '59km',\n",
       "       '74km', '51mi', '72.9km', '32.8mi', '110km', '168km', '81km',\n",
       "       '163km', '73km', '49km', '68mi', '155mi', '160km/4Etappen',\n",
       "       '51.3km', '90km', '83km', '105km', '145km', '32mi',\n",
       "       '100km/5Etappen', '51.4km', '92km/2Etappen', '51.2km', '57.2km',\n",
       "       '44.5mi', '109.8km', '81.3km', '127km', '400km/8Etappen', '113km',\n",
       "       '70.5mi', '81mi/2Etappen', '38mi', '52.7km', '112mi',\n",
       "       '100km/3Etappen', '104.8mi', '250mi', '73.9km', '95.5mi', '151mi',\n",
       "       '126km', '200km/6Etappen', '888km', '170km/5Etappen', '63km',\n",
       "       '55.7km', '112km', '56mi', '120km', '55mi', '108km/2Etappen',\n",
       "       '106mi', '190mi', '37.5mi', '40.8mi', '77km', '53mi', '43mi',\n",
       "       '64.6km', '200km/7Etappen', '102mi', '50.6km', '36.5mi', '42mi',\n",
       "       '33.4mi', '230km/5Etappen', '46.6km', '46.1km', '69km', '52.5km',\n",
       "       '79mi', '54mi', '121km', '165km', '281km', '70km/2Etappen',\n",
       "       '100km/2Etappen', '111km/2Etappen', '89km', '134km', '100.5km',\n",
       "       '500km', '49.6km', '46.4km', '125.5km', '103mi', '45.6km',\n",
       "       '84.2km', '233km', '128mi/4Etappen', '51.5mi', '70.3km', '73.3km',\n",
       "       '91km', '72.7km', '98.4km', '93km', '153km', '107km', '46.5km',\n",
       "       '1000km', '143mi/5Etappen', '62.8km', '85km/3Etappen', '54.9km',\n",
       "       '62mi', '63.3km', '73mi', '70mi', '330km', '262km/5Etappen',\n",
       "       '52.1km', '50.3km', '45mi', '104.3km', '49.8km', '220km/6Etappen',\n",
       "       '202mi', '103km/3Etappen', '190km', '204km', '170km/4Etappen',\n",
       "       '360km', '240km/7Etappen', '255km/7Etappen', '44mi', '75.9km',\n",
       "       '46mi', '71.1mi', '171km', '35.7mi', '119km', '86mi', '95km',\n",
       "       '31.5mi', '169km', '169km/4Etappen', '52.8km', '66.8km', '214mi',\n",
       "       '56.7km', '64mi', '206mi', '75mi/3Etappen', '99mi', '29.7mi',\n",
       "       '36mi', '78km', '45.1km', '60.9km', '90mi', '163mi/6Etappen',\n",
       "       '63.6km', '119.3km', '102.9km', '158.1km', '112.8mi', '102.1km',\n",
       "       '165.7km', '72mi', '76.1km', '65.5km', '103.5km', '150km', '238mi',\n",
       "       '173km/4Etappen', '234km/5Etappen', '71.5km', '68km', '160km',\n",
       "       '70.5km', '85.6km', '246km', '170mi/6Etappen', '50.9mi', '51.5km',\n",
       "       '255km/6Etappen', '80mi', '36.8mi', '160mi', '71.7km', '144km',\n",
       "       '105km/3Etappen', '45.5mi', '33.3mi', '31.4mi', '137km', '124.3km',\n",
       "       '200km/3Etappen', '63.8km', '97.7km', '35.3mi', '31.2mi', '109km',\n",
       "       '107.5mi', '41.5mi', '49.6mi', '101mi', '116km', '47.3km', '41mi',\n",
       "       '210km/6Etappen', '235km/6Etappen', '183mi', '300mi', '47mi',\n",
       "       '34.5mi', '151km/3Etappen', '108mi', '105mi', '60mi/2Etappen',\n",
       "       '61mi', '90km/2Etappen', '52.3km', '118km', '59.5km',\n",
       "       '280km/8Etappen', '105km/2Etappen', '68.5km', '141km',\n",
       "       '257km/6Etappen', '55.2km', '34.1mi', '239km', '53.5mi', '177km',\n",
       "       '146mi/5Etappen', '56.2km', '101.6km', '102.5km', '97km', '28.5mi',\n",
       "       '140mi', '221km', '155km', '202.4km', '84.4km', '280km/6Etappen',\n",
       "       '185km', '230km', '150mi/6Etappen', '58mi', '79km', '120mi',\n",
       "       '333km', '90.3km', '124.7km', '102.5mi', '32.6mi', '205mi',\n",
       "       '122km', '105.5km', '52.5mi', '135.6mi', '82.7km', '50.7km',\n",
       "       '392km', '57mi/2Etappen', '64.5km', '65.3km', '175km', '185mi',\n",
       "       '247km/7Etappen', '350km', '66mi', '116km/3Etappen',\n",
       "       '111km/3Etappen', '151km', '45.4mi', '33.6mi', '333km/6Etappen',\n",
       "       '53.1km', '490km', '104mi', '84mi/3Etappen', '53.4mi', '33.9mi',\n",
       "       '57.7km', '167km', '77.8km', '430mi', '66mi/2Etappen', '130mi',\n",
       "       '49.1km', '79.9km', '1354km/45Etappen', '324km/13Etappen',\n",
       "       '117km/2Etappen', '108.4km', '194km/4Etappen', '31.7mi', '55.8km',\n",
       "       '45.3km', '265km', '212mi', '145mi', '165.8km', '292km/5Etappen',\n",
       "       '73.5km', '520km/9Etappen', '155mi/6Etappen', '88.2km',\n",
       "       '147mi/6Etappen', '285km', '166km', '90.1km', '78.2km', '70.7km',\n",
       "       '79.3km', '76.9km', '86.3km', '1319km/19Etappen', '58.7km',\n",
       "       '320mi/10Etappen', '182.4km', '3100mi', '320km', '45.5km',\n",
       "       '49.4km', '45.2km', '1005.4km/17Etappen', '167.7km',\n",
       "       '135mi/3Etappen', '157km', '273km/6Etappen', '114km', '76.4km',\n",
       "       '66.4km', '54.8km', '181km', '214km', '76.7km', '54.4km', '58.1km',\n",
       "       '60.1km', '48.5km', '83.2km', '114.3km', '74.5km',\n",
       "       '175km/3Etappen', '400km', '120km/3Etappen', '72.4km', '83.5km',\n",
       "       '48.8km', '61.4km', '59.7km', '61.0km', '64.0km', '58.9km',\n",
       "       '75.0km', '52.4km', '47.0km', '162km', '47.6km', '71.4km',\n",
       "       '88.5km', '242km/6Etappen', '43.5mi', '29mi', '216km/5Etappen',\n",
       "       '60.7mi', '30.3mi', '105.8mi', '154km', '96.7km', '54.7km',\n",
       "       '66.6km', '39.3mi', '119km/3Etappen', '265km/5Etappen',\n",
       "       '123km/4Etappen', '106km/2Etappen', '96km', '56.1km', '32.4mi',\n",
       "       '116km/2Etappen', '85km/2Etappen', '133km', '50.5km', '55.4km',\n",
       "       '80.5km', '110mi', '69mi', '315km/5Etappen', '615mi', '55.5km',\n",
       "       '51.9km', '170.9km', '70.4km', '85.4km', '4x52km', '56.9km',\n",
       "       '162.7km', '124.5km', '37mi', '72.6km', '61.5km', '103.2km',\n",
       "       '102.2km', '58.5km', '148mi/5Etappen', '45.1mi', '79.7km',\n",
       "       '130.7km', '45.6 km', '53.7km', '35.5mi', '555km', '215mi',\n",
       "       '89.3km', '102.9mi', '70.8km', '84.9km', '900km/14Etappen',\n",
       "       '444km/6Etappen', '45.7km', '68.8km', '50.4km', '203mi', '47.8km',\n",
       "       '57.5km', '64.2km', '74.3km', '86km', '450km', '196.3km',\n",
       "       '276km/8Etappen', '210km/3Etappen', '230km/6Etappen', '80.3km',\n",
       "       '184mi', '122.2km', '75.5km', '48mi', '180km', '57.8km', '94.4km',\n",
       "       '51.6km', '82.3km', '250km/5Etappen', '99km', '110.6km', '174km',\n",
       "       '72.2km', '60.6km', '200km/5Etappen', '50.2km', '61.1km', '74.7km',\n",
       "       '74.9km', '108.7km', '59.2km', '55.3km', '165mi/6Etappen',\n",
       "       '48.5mi', '326mi', '53.2km', '79.5km', '106.4km', '84.8km',\n",
       "       '87.0km', '193km', '314km', '50.8km', '410km/9Etappen', '61.9km',\n",
       "       '100.4km', '165.2km', '260mi', '76.6km', '34.6mi', '51.1km',\n",
       "       '84.7km', '74mi', '69.6km', '33.1mi', '56.5km', '94.3km', '125mi',\n",
       "       '34.7mi', '43.3mi', '61.2km', '60.4km', '57.69mi', '99.7km',\n",
       "       '48.1km', '33.8mi', '48.6km', '91.5km', '53.3km', '98.9km',\n",
       "       '101.9km', '98.7km', '172km/4Etappen', '53.9km', '65.1km',\n",
       "       '53.6mi', '210mi', '264km/8Etappen', '85.3km', '367km', '207.8km',\n",
       "       '149km', '224km', '82mi', '83.7km', '68.3km', '61.8km', '108.5km',\n",
       "       '54.5km', '37,5mi', '52,5mi', '67,5mi', '50.4mi', '234km/6Etappen',\n",
       "       '65.7km', '118.7km', '46.2km', '80.7km', '63.25km', '161km',\n",
       "       '175.5km', '47.9km', '59.3km', '69.1km', '83mi', '46.3mi',\n",
       "       '62.9km', '106.5km', '47.1mi', '101.3km', '100mi/4stages', '124km',\n",
       "       '64.3km', '129km', '300km/7Etappen', '45.26km', '322km', '70.1km',\n",
       "       '275km/5Etappen', '50.1km', '289km', '129km/3Etappen', '49.5km',\n",
       "       '255km', '50miles', '53.8km', '98km', '61.48km', '53.98km',\n",
       "       '59.72km', '75.1km', '140km', '64.4km', '97.5km', '47.7km',\n",
       "       '367km/7Etappen', '97.9km', '123km', '67.3km', '380km/6stages',\n",
       "       '285km/8Etappen', '364km', '296km/6Etappen', '100miles',\n",
       "       '250km/6stages', '409km/9Etappen', '121.8km', '176km', '81.6km',\n",
       "       '101miles', '171mi/6Etappen', '108.6km', '156km', '52,4mi',\n",
       "       '58.8km', '222km', '108.1km', '205km/3Etappen', '34.2mi', '42.5mi',\n",
       "       '157mi', '80.6km', '56.8km', '245.3km', '700mi', '47.6mi',\n",
       "       '2700mi', '158mi/4Etappen', '203km', '229km/6Etappen',\n",
       "       '100mi/3Etappen', '225km/6Etappen', '215km/6Etappen',\n",
       "       '323km/7Etappen', '100mi/2Etappen', '28.7mi', '49mi',\n",
       "       '232km/6Etappen', '53.2mi', '1130km/18Etappen', '200mi/4Etappen',\n",
       "       '243km/6Etappen', '256km/6Etappen', '87.1km', '66km/2Etappen',\n",
       "       '186km', '102.6km', '218km/6Etappen', '82.9km', '84.3km', '99.6km',\n",
       "       '93.4km', '81.4km', '88.6km', '36.2mi', '1149km/18Etappen',\n",
       "       '3080.8mi', '250km/7Etappen', '247km/6Etappen', '64.8km', '81.5km',\n",
       "       '57.6km', '69.7km', '66.9km', '92.9km', '1204km/17Etappen',\n",
       "       '58.6km', '34.3mi', '158km/5Etappen', '245.7km/6Etappen',\n",
       "       '130km/3Etappen', '320mi', '150mi/4Etappen', '38.5mi', '240km',\n",
       "       '148km', '625km/14Etappen', '1150km/18Etappen', '350km/7Etappen',\n",
       "       '212km/6Etappen', '48.7km', '221km/6Etappen', '197km/6Etappen',\n",
       "       '220km/5Etappen', '85mi', '86.5km', '200km/8Etappen', '28.8mi',\n",
       "       '52.2km', '245.3km/6Etappen', '195.4km/4Etappen', '46.7km',\n",
       "       '135km/3Etappen', '207km/6Etappen', '161km/6Etappen',\n",
       "       '620km/14Etappen', '300km/8Etappen', '300km/6Etappen',\n",
       "       '1151km/18Etappen', '50.9km', '72km/2Etappen', '135km',\n",
       "       '140mi/6Etappen', '62.4km', '55.6km', '202.2km/4Etappen',\n",
       "       '142km/3Etappen', '233km/6Etappen', '177.7km/6Etappen', '36.4mi',\n",
       "       '68.2km', '131mi', '146km', '260km', '213km/5Etappen',\n",
       "       '238km/5Etappen', '70mi/2Etappen', '245km/6Etappen', '68.6km',\n",
       "       '240km/6Etappen', '222km/6Etappen', '90mi/3Etappen', '308km',\n",
       "       '305km/8Etappen', '324km/5Etappen', '53.5km', '250.7km/6Etappen',\n",
       "       '33.2mi', '46.8km', '95.8km/2Etappen', '126.2mi', '270km/6Etappen',\n",
       "       '79.1km', '712km', '203.5km', '104.5km', '105.5km/3Etappen',\n",
       "       '71.8km', '161.8km', '84.5km ', '63.5mi', '143km',\n",
       "       '346mi/11Etappen', '156mi/6Etappen', '273km/8Etappen',\n",
       "       '260km/6Etappen', '213km/6Etappen', '3303mi/80Etappen', '83.3km',\n",
       "       '55.1km', '35.2mi', '303km', '320km/8Etappen', '103.4km', '111mi',\n",
       "       '63.4km', '78.5km', '70.9km', '79.4km', '81km/2Etappen',\n",
       "       '1025km/17Etappen', '163.6km/4Etappen', '212km', '88km ',\n",
       "       '230mi/7Etappen', '74.1km', '160mi/6Etappen', '42.6mi', '54.3km',\n",
       "       '184km', '61.3km', '104.6km', '216km', '225km/5Etappen',\n",
       "       '131mi/3Etappen', '1190km/19Etappen', '201km', '77.5km',\n",
       "       '110km/2Etappen', '172km', '47.5km', '211km', '163.5km',\n",
       "       '254km/6Etappen', '230km/4Etappen', '29.5mi', '52.7mi', '166.6km',\n",
       "       '244km/6Etappen', '282.7km', '140km/3Etappen', '270km/8Etappen',\n",
       "       '126.6km', '60.7km', '64.7km', '50km ', '169mi/6Etappen', '60.2km',\n",
       "       '116.8km', '124mi/3Etappen', '216mi', '29.6mi', '293km/8Etappen',\n",
       "       '73.4km', '65.6km', '390.2km/6Etappen', '107km/2Etappen',\n",
       "       '1192km/19Etappen', '72.5km', '80km/3Etappen', '130.9km',\n",
       "       '102.6km/2Etappen', '101.6mi', '68.4km', '249km/6Etappen', '225mi',\n",
       "       '134km/3Etappen', '175km/4Etappen', '69.4km', '90.4km/2Etappen',\n",
       "       '262km/6Etappen', '63.7km', '112.1km', '173km', '78.6mi',\n",
       "       '156km/4Etappen', '82.2km', '90.2km', '170.3km', '95.3km',\n",
       "       '122.3km', '185km/5Etappen', '83.1km', '67mi', '480mi',\n",
       "       '3423mi/83Etappen', '3554mi/78Etappen', '84.5km', '61.15km',\n",
       "       '85.1km', '86.1km', '87.3km', '41.2mi', '48.6mi', '76mi', '50.7mi',\n",
       "       '56.6mi', '57mi', '108.6mi', '50.8mi', '116.4mi', '122mi',\n",
       "       '52.2mi', '864km', '156mi/3Etappen', '56.7mi', '38.3mi', '85.8km',\n",
       "       '166mi', '84mi', '165mi', '875km', '150mi/3Etappen', '960km',\n",
       "       '1005km', '146mi', '87mi/2Etappen', '42.7mi', '1060km', '40.6mi',\n",
       "       '558.4km/8Etappen', '234mi', '1016km', '40.5mi', '209km/6Etappen',\n",
       "       '1006km', '1300mi', '2935.8mi/64Etappen', '231km/6Etappen',\n",
       "       '2912.4mi/64Etappen', '47.2km', '2925.7mi/64Etappen', '66.5km',\n",
       "       '2906.1mi/64Etappen'], dtype=object)"
      ]
     },
     "execution_count": 46,
     "metadata": {},
     "output_type": "execute_result"
    }
   ],
   "source": [
    "event_array = dfCountry[dfCountry['Event distance/length'].str.contains('km|mi', na=False)]['Event distance/length'].unique()\n",
    "event_array"
   ]
  },
  {
   "cell_type": "code",
   "execution_count": 161,
   "id": "3a27ca4d-5f5e-48d4-b70a-c0f92bfa398f",
   "metadata": {},
   "outputs": [],
   "source": [
    "dfCountry = dfCountry[dfCountry['Event distance/length'].isin(['50km','50mi'])]"
   ]
  },
  {
   "cell_type": "code",
   "execution_count": 162,
   "id": "e9df1015-587f-48d3-a418-53fe6e8c71f5",
   "metadata": {},
   "outputs": [],
   "source": [
    "dfCountry['Event distance/length'] = (dfCountry['Event distance/length'].str.strip().str.lower().str.replace(' ', '', regex=False))"
   ]
  },
  {
   "cell_type": "code",
   "execution_count": 163,
   "id": "d3c900d7-ec49-4ff4-8cf3-56b2cc6cbfff",
   "metadata": {},
   "outputs": [
    {
     "data": {
      "text/html": [
       "<div>\n",
       "<style scoped>\n",
       "    .dataframe tbody tr th:only-of-type {\n",
       "        vertical-align: middle;\n",
       "    }\n",
       "\n",
       "    .dataframe tbody tr th {\n",
       "        vertical-align: top;\n",
       "    }\n",
       "\n",
       "    .dataframe thead th {\n",
       "        text-align: right;\n",
       "    }\n",
       "</style>\n",
       "<table border=\"1\" class=\"dataframe\">\n",
       "  <thead>\n",
       "    <tr style=\"text-align: right;\">\n",
       "      <th></th>\n",
       "      <th>Year of event</th>\n",
       "      <th>Event name</th>\n",
       "      <th>Event distance/length</th>\n",
       "      <th>Event number of finishers</th>\n",
       "      <th>Athlete performance</th>\n",
       "      <th>Athlete country</th>\n",
       "      <th>Athlete gender</th>\n",
       "      <th>Athlete Age</th>\n",
       "      <th>Athlete average speed</th>\n",
       "      <th>Athlete ID</th>\n",
       "      <th>month_year</th>\n",
       "    </tr>\n",
       "  </thead>\n",
       "  <tbody>\n",
       "    <tr>\n",
       "      <th>55</th>\n",
       "      <td>2018</td>\n",
       "      <td>Yankee Springs 50 Mile Winter Challenge (USA)</td>\n",
       "      <td>50mi</td>\n",
       "      <td>9</td>\n",
       "      <td>9:53:05</td>\n",
       "      <td>USA</td>\n",
       "      <td>M</td>\n",
       "      <td>23</td>\n",
       "      <td>8.141</td>\n",
       "      <td>55</td>\n",
       "      <td>2018-01-01</td>\n",
       "    </tr>\n",
       "    <tr>\n",
       "      <th>56</th>\n",
       "      <td>2018</td>\n",
       "      <td>Yankee Springs 50 Mile Winter Challenge (USA)</td>\n",
       "      <td>50mi</td>\n",
       "      <td>9</td>\n",
       "      <td>11:09:35</td>\n",
       "      <td>CAN</td>\n",
       "      <td>F</td>\n",
       "      <td>40</td>\n",
       "      <td>7.211</td>\n",
       "      <td>56</td>\n",
       "      <td>2018-01-01</td>\n",
       "    </tr>\n",
       "    <tr>\n",
       "      <th>57</th>\n",
       "      <td>2018</td>\n",
       "      <td>Yankee Springs 50 Mile Winter Challenge (USA)</td>\n",
       "      <td>50mi</td>\n",
       "      <td>9</td>\n",
       "      <td>11:33:00</td>\n",
       "      <td>CAN</td>\n",
       "      <td>M</td>\n",
       "      <td>40</td>\n",
       "      <td>6.967</td>\n",
       "      <td>57</td>\n",
       "      <td>2018-01-01</td>\n",
       "    </tr>\n",
       "    <tr>\n",
       "      <th>58</th>\n",
       "      <td>2018</td>\n",
       "      <td>Yankee Springs 50 Mile Winter Challenge (USA)</td>\n",
       "      <td>50mi</td>\n",
       "      <td>9</td>\n",
       "      <td>11:38:17</td>\n",
       "      <td>USA</td>\n",
       "      <td>M</td>\n",
       "      <td>23</td>\n",
       "      <td>6.914</td>\n",
       "      <td>58</td>\n",
       "      <td>2018-01-01</td>\n",
       "    </tr>\n",
       "    <tr>\n",
       "      <th>59</th>\n",
       "      <td>2018</td>\n",
       "      <td>Yankee Springs 50 Mile Winter Challenge (USA)</td>\n",
       "      <td>50mi</td>\n",
       "      <td>9</td>\n",
       "      <td>11:56:35</td>\n",
       "      <td>USA</td>\n",
       "      <td>M</td>\n",
       "      <td>23</td>\n",
       "      <td>6.738</td>\n",
       "      <td>59</td>\n",
       "      <td>2018-01-01</td>\n",
       "    </tr>\n",
       "    <tr>\n",
       "      <th>...</th>\n",
       "      <td>...</td>\n",
       "      <td>...</td>\n",
       "      <td>...</td>\n",
       "      <td>...</td>\n",
       "      <td>...</td>\n",
       "      <td>...</td>\n",
       "      <td>...</td>\n",
       "      <td>...</td>\n",
       "      <td>...</td>\n",
       "      <td>...</td>\n",
       "      <td>...</td>\n",
       "    </tr>\n",
       "    <tr>\n",
       "      <th>7461181</th>\n",
       "      <td>1995</td>\n",
       "      <td>Avalon Benefit 50-Mile Run (USA)</td>\n",
       "      <td>50mi</td>\n",
       "      <td>92</td>\n",
       "      <td>11:59:37</td>\n",
       "      <td>USA</td>\n",
       "      <td>M</td>\n",
       "      <td>50</td>\n",
       "      <td>6709.0</td>\n",
       "      <td>1045603</td>\n",
       "      <td>1995-01-01</td>\n",
       "    </tr>\n",
       "    <tr>\n",
       "      <th>7461182</th>\n",
       "      <td>1995</td>\n",
       "      <td>Avalon Benefit 50-Mile Run (USA)</td>\n",
       "      <td>50mi</td>\n",
       "      <td>92</td>\n",
       "      <td>12:01:41</td>\n",
       "      <td>USA</td>\n",
       "      <td>M</td>\n",
       "      <td>60</td>\n",
       "      <td>6690.0</td>\n",
       "      <td>1070463</td>\n",
       "      <td>1995-01-01</td>\n",
       "    </tr>\n",
       "    <tr>\n",
       "      <th>7461183</th>\n",
       "      <td>1995</td>\n",
       "      <td>Avalon Benefit 50-Mile Run (USA)</td>\n",
       "      <td>50mi</td>\n",
       "      <td>92</td>\n",
       "      <td>12:03:26</td>\n",
       "      <td>USA</td>\n",
       "      <td>F</td>\n",
       "      <td>60</td>\n",
       "      <td>6674.0</td>\n",
       "      <td>416139</td>\n",
       "      <td>1995-01-01</td>\n",
       "    </tr>\n",
       "    <tr>\n",
       "      <th>7461184</th>\n",
       "      <td>1995</td>\n",
       "      <td>Avalon Benefit 50-Mile Run (USA)</td>\n",
       "      <td>50mi</td>\n",
       "      <td>92</td>\n",
       "      <td>12:03:26</td>\n",
       "      <td>USA</td>\n",
       "      <td>F</td>\n",
       "      <td>40</td>\n",
       "      <td>6674.0</td>\n",
       "      <td>1098098</td>\n",
       "      <td>1995-01-01</td>\n",
       "    </tr>\n",
       "    <tr>\n",
       "      <th>7461185</th>\n",
       "      <td>1995</td>\n",
       "      <td>Avalon Benefit 50-Mile Run (USA)</td>\n",
       "      <td>50mi</td>\n",
       "      <td>92</td>\n",
       "      <td>12:05:59</td>\n",
       "      <td>USA</td>\n",
       "      <td>F</td>\n",
       "      <td>45</td>\n",
       "      <td>6650.0</td>\n",
       "      <td>1626367</td>\n",
       "      <td>1995-01-01</td>\n",
       "    </tr>\n",
       "  </tbody>\n",
       "</table>\n",
       "<p>976060 rows × 11 columns</p>\n",
       "</div>"
      ],
      "text/plain": [
       "         Year of event                                     Event name  \\\n",
       "55                2018  Yankee Springs 50 Mile Winter Challenge (USA)   \n",
       "56                2018  Yankee Springs 50 Mile Winter Challenge (USA)   \n",
       "57                2018  Yankee Springs 50 Mile Winter Challenge (USA)   \n",
       "58                2018  Yankee Springs 50 Mile Winter Challenge (USA)   \n",
       "59                2018  Yankee Springs 50 Mile Winter Challenge (USA)   \n",
       "...                ...                                            ...   \n",
       "7461181           1995               Avalon Benefit 50-Mile Run (USA)   \n",
       "7461182           1995               Avalon Benefit 50-Mile Run (USA)   \n",
       "7461183           1995               Avalon Benefit 50-Mile Run (USA)   \n",
       "7461184           1995               Avalon Benefit 50-Mile Run (USA)   \n",
       "7461185           1995               Avalon Benefit 50-Mile Run (USA)   \n",
       "\n",
       "        Event distance/length  Event number of finishers Athlete performance  \\\n",
       "55                       50mi                          9             9:53:05   \n",
       "56                       50mi                          9            11:09:35   \n",
       "57                       50mi                          9            11:33:00   \n",
       "58                       50mi                          9            11:38:17   \n",
       "59                       50mi                          9            11:56:35   \n",
       "...                       ...                        ...                 ...   \n",
       "7461181                  50mi                         92            11:59:37   \n",
       "7461182                  50mi                         92            12:01:41   \n",
       "7461183                  50mi                         92            12:03:26   \n",
       "7461184                  50mi                         92            12:03:26   \n",
       "7461185                  50mi                         92            12:05:59   \n",
       "\n",
       "        Athlete country Athlete gender  Athlete Age Athlete average speed  \\\n",
       "55                  USA              M           23                 8.141   \n",
       "56                  CAN              F           40                 7.211   \n",
       "57                  CAN              M           40                 6.967   \n",
       "58                  USA              M           23                 6.914   \n",
       "59                  USA              M           23                 6.738   \n",
       "...                 ...            ...          ...                   ...   \n",
       "7461181             USA              M           50                6709.0   \n",
       "7461182             USA              M           60                6690.0   \n",
       "7461183             USA              F           60                6674.0   \n",
       "7461184             USA              F           40                6674.0   \n",
       "7461185             USA              F           45                6650.0   \n",
       "\n",
       "         Athlete ID month_year  \n",
       "55               55 2018-01-01  \n",
       "56               56 2018-01-01  \n",
       "57               57 2018-01-01  \n",
       "58               58 2018-01-01  \n",
       "59               59 2018-01-01  \n",
       "...             ...        ...  \n",
       "7461181     1045603 1995-01-01  \n",
       "7461182     1070463 1995-01-01  \n",
       "7461183      416139 1995-01-01  \n",
       "7461184     1098098 1995-01-01  \n",
       "7461185     1626367 1995-01-01  \n",
       "\n",
       "[976060 rows x 11 columns]"
      ]
     },
     "execution_count": 163,
     "metadata": {},
     "output_type": "execute_result"
    }
   ],
   "source": [
    "dfCountry"
   ]
  },
  {
   "cell_type": "code",
   "execution_count": 164,
   "id": "4a671cfb-f3ce-4fc9-9348-7538a9f939cc",
   "metadata": {},
   "outputs": [
    {
     "data": {
      "text/plain": [
       "Year of event                         int64\n",
       "Event name                           object\n",
       "Event distance/length                object\n",
       "Event number of finishers             int64\n",
       "Athlete performance                  object\n",
       "Athlete country                      object\n",
       "Athlete gender                       object\n",
       "Athlete Age                           Int64\n",
       "Athlete average speed                object\n",
       "Athlete ID                            int64\n",
       "month_year                   datetime64[ns]\n",
       "dtype: object"
      ]
     },
     "execution_count": 164,
     "metadata": {},
     "output_type": "execute_result"
    }
   ],
   "source": [
    "dfCountry.dtypes"
   ]
  },
  {
   "cell_type": "code",
   "execution_count": 165,
   "id": "96763ca1-2d2e-4283-a72c-3ccfb9f0112a",
   "metadata": {},
   "outputs": [
    {
     "data": {
      "text/plain": [
       "Year of event                    0\n",
       "Event name                       0\n",
       "Event distance/length            0\n",
       "Event number of finishers        0\n",
       "Athlete performance              0\n",
       "Athlete country                  0\n",
       "Athlete gender                   0\n",
       "Athlete Age                  22781\n",
       "Athlete average speed            0\n",
       "Athlete ID                       0\n",
       "month_year                       6\n",
       "dtype: int64"
      ]
     },
     "execution_count": 165,
     "metadata": {},
     "output_type": "execute_result"
    }
   ],
   "source": [
    "dfCountry.isnull().sum()"
   ]
  },
  {
   "cell_type": "code",
   "execution_count": 166,
   "id": "5ec133fa-ae7f-43bd-b4fe-4dfc297cfaf2",
   "metadata": {},
   "outputs": [
    {
     "name": "stdout",
     "output_type": "stream",
     "text": [
      "Rows in hh:mm:ss format: 46\n"
     ]
    }
   ],
   "source": [
    "mask = dfCountry['Athlete average speed'].str.match(r'^\\d{2}:\\d{2}:\\d{2}$', na=False)\n",
    "count = mask.sum()\n",
    "print(f\"Rows in hh:mm:ss format: {count}\")"
   ]
  },
  {
   "cell_type": "code",
   "execution_count": 167,
   "id": "50156cb1-036b-4d78-a818-a37f4689d547",
   "metadata": {},
   "outputs": [],
   "source": [
    "dfCountry = dfCountry[~mask]"
   ]
  },
  {
   "cell_type": "code",
   "execution_count": 168,
   "id": "0f832b28-0280-406f-8cf6-4085a59fcdb9",
   "metadata": {},
   "outputs": [
    {
     "name": "stderr",
     "output_type": "stream",
     "text": [
      "/var/folders/by/4dfr5wv56g9c4s2hr4sjrcw00000gn/T/ipykernel_95409/3526020324.py:1: SettingWithCopyWarning: \n",
      "A value is trying to be set on a copy of a slice from a DataFrame.\n",
      "Try using .loc[row_indexer,col_indexer] = value instead\n",
      "\n",
      "See the caveats in the documentation: https://pandas.pydata.org/pandas-docs/stable/user_guide/indexing.html#returning-a-view-versus-a-copy\n",
      "  dfCountry['Athlete average speed'] = dfCountry['Athlete average speed'].astype(float)\n"
     ]
    }
   ],
   "source": [
    "dfCountry['Athlete average speed'] = dfCountry['Athlete average speed'].astype(float)"
   ]
  },
  {
   "cell_type": "code",
   "execution_count": 169,
   "id": "977ad0c7-e807-4d99-bea5-08a9c3c3f6ec",
   "metadata": {},
   "outputs": [
    {
     "name": "stderr",
     "output_type": "stream",
     "text": [
      "/var/folders/by/4dfr5wv56g9c4s2hr4sjrcw00000gn/T/ipykernel_95409/4174878165.py:1: SettingWithCopyWarning: \n",
      "A value is trying to be set on a copy of a slice from a DataFrame.\n",
      "Try using .loc[row_indexer,col_indexer] = value instead\n",
      "\n",
      "See the caveats in the documentation: https://pandas.pydata.org/pandas-docs/stable/user_guide/indexing.html#returning-a-view-versus-a-copy\n",
      "  dfCountry['Athlete performance'] = pd.to_timedelta(dfCountry['Athlete performance'])\n"
     ]
    }
   ],
   "source": [
    "dfCountry['Athlete performance'] = pd.to_timedelta(dfCountry['Athlete performance'])"
   ]
  },
  {
   "cell_type": "code",
   "execution_count": 170,
   "id": "824fa0b7-86b9-4907-96d3-f5217c53f8e9",
   "metadata": {},
   "outputs": [],
   "source": [
    "dfCountry = dfCountry.dropna(subset=['Athlete Age'])"
   ]
  },
  {
   "cell_type": "code",
   "execution_count": 171,
   "id": "c01ba8dc-5bc0-4b29-bcd8-c50603f75e02",
   "metadata": {
    "scrolled": true
   },
   "outputs": [
    {
     "data": {
      "text/plain": [
       "Year of event            0\n",
       "Event distance/length    0\n",
       "Athlete average speed    0\n",
       "Athlete gender           0\n",
       "Athlete Age              0\n",
       "Athlete country          0\n",
       "dtype: int64"
      ]
     },
     "execution_count": 171,
     "metadata": {},
     "output_type": "execute_result"
    }
   ],
   "source": [
    "dfCountry[['Year of event', 'Event distance/length', 'Athlete average speed',\n",
    "            'Athlete gender', 'Athlete Age', 'Athlete country']].isnull().sum()\n"
   ]
  },
  {
   "cell_type": "code",
   "execution_count": 172,
   "id": "40354542-0123-4101-8348-202e7989c9fa",
   "metadata": {},
   "outputs": [
    {
     "data": {
      "text/plain": [
       "Athlete country\n",
       "USA    899191\n",
       "CAN     54042\n",
       "Name: count, dtype: int64"
      ]
     },
     "execution_count": 172,
     "metadata": {},
     "output_type": "execute_result"
    }
   ],
   "source": [
    "dfCountry['Athlete country'].value_counts()"
   ]
  },
  {
   "cell_type": "code",
   "execution_count": 173,
   "id": "4a3ceac3-54e1-4bfc-b958-016954bfe8eb",
   "metadata": {},
   "outputs": [
    {
     "data": {
      "text/plain": [
       "Athlete average speed    float64\n",
       "Athlete Age                Int64\n",
       "dtype: object"
      ]
     },
     "execution_count": 173,
     "metadata": {},
     "output_type": "execute_result"
    }
   ],
   "source": [
    "dfCountry[['Athlete average speed', 'Athlete Age']].dtypes"
   ]
  },
  {
   "cell_type": "code",
   "execution_count": 174,
   "id": "b28f6ee6-3d81-4660-bcd0-d39b2b6ea644",
   "metadata": {},
   "outputs": [
    {
     "data": {
      "text/plain": [
       "1932"
      ]
     },
     "execution_count": 174,
     "metadata": {},
     "output_type": "execute_result"
    }
   ],
   "source": [
    "dfCountry['Year of event'].min()"
   ]
  },
  {
   "cell_type": "code",
   "execution_count": 175,
   "id": "18f20370-b242-4dcf-a6e2-c00a21a5c612",
   "metadata": {},
   "outputs": [
    {
     "data": {
      "text/html": [
       "<div>\n",
       "<style scoped>\n",
       "    .dataframe tbody tr th:only-of-type {\n",
       "        vertical-align: middle;\n",
       "    }\n",
       "\n",
       "    .dataframe tbody tr th {\n",
       "        vertical-align: top;\n",
       "    }\n",
       "\n",
       "    .dataframe thead th {\n",
       "        text-align: right;\n",
       "    }\n",
       "</style>\n",
       "<table border=\"1\" class=\"dataframe\">\n",
       "  <thead>\n",
       "    <tr style=\"text-align: right;\">\n",
       "      <th></th>\n",
       "      <th>Year of event</th>\n",
       "      <th>Event name</th>\n",
       "      <th>Event distance/length</th>\n",
       "      <th>Event number of finishers</th>\n",
       "      <th>Athlete performance</th>\n",
       "      <th>Athlete country</th>\n",
       "      <th>Athlete gender</th>\n",
       "      <th>Athlete Age</th>\n",
       "      <th>Athlete average speed</th>\n",
       "      <th>Athlete ID</th>\n",
       "      <th>month_year</th>\n",
       "    </tr>\n",
       "  </thead>\n",
       "  <tbody>\n",
       "    <tr>\n",
       "      <th>4509986</th>\n",
       "      <td>2007</td>\n",
       "      <td>Scorched Sole Ultra 50 km (CAN)</td>\n",
       "      <td>50km</td>\n",
       "      <td>29</td>\n",
       "      <td>0 days 07:04:36</td>\n",
       "      <td>CAN</td>\n",
       "      <td>M</td>\n",
       "      <td>60</td>\n",
       "      <td>7.065</td>\n",
       "      <td>180717</td>\n",
       "      <td>2007-06-01</td>\n",
       "    </tr>\n",
       "    <tr>\n",
       "      <th>893317</th>\n",
       "      <td>2016</td>\n",
       "      <td>Pineland Farms 50 Mile Trail Running (USA)</td>\n",
       "      <td>50mi</td>\n",
       "      <td>127</td>\n",
       "      <td>0 days 08:10:15</td>\n",
       "      <td>USA</td>\n",
       "      <td>M</td>\n",
       "      <td>50</td>\n",
       "      <td>9.848</td>\n",
       "      <td>182313</td>\n",
       "      <td>2016-05-01</td>\n",
       "    </tr>\n",
       "    <tr>\n",
       "      <th>2994490</th>\n",
       "      <td>2021</td>\n",
       "      <td>Rocky Brunch Rivermen 50km Ultra Race (USA)</td>\n",
       "      <td>50km</td>\n",
       "      <td>18</td>\n",
       "      <td>0 days 08:38:05</td>\n",
       "      <td>USA</td>\n",
       "      <td>M</td>\n",
       "      <td>40</td>\n",
       "      <td>5.791</td>\n",
       "      <td>474522</td>\n",
       "      <td>2021-08-01</td>\n",
       "    </tr>\n",
       "    <tr>\n",
       "      <th>5231079</th>\n",
       "      <td>2011</td>\n",
       "      <td>Cumberland Trail 50k (USA)</td>\n",
       "      <td>50km</td>\n",
       "      <td>43</td>\n",
       "      <td>0 days 08:31:25</td>\n",
       "      <td>USA</td>\n",
       "      <td>F</td>\n",
       "      <td>50</td>\n",
       "      <td>5.866</td>\n",
       "      <td>12003</td>\n",
       "      <td>2011-10-01</td>\n",
       "    </tr>\n",
       "    <tr>\n",
       "      <th>6511320</th>\n",
       "      <td>2015</td>\n",
       "      <td>Quicksilver 50 km Endurance Run (USA)</td>\n",
       "      <td>50km</td>\n",
       "      <td>154</td>\n",
       "      <td>0 days 08:18:37</td>\n",
       "      <td>USA</td>\n",
       "      <td>F</td>\n",
       "      <td>35</td>\n",
       "      <td>6.017</td>\n",
       "      <td>1251987</td>\n",
       "      <td>2015-05-01</td>\n",
       "    </tr>\n",
       "  </tbody>\n",
       "</table>\n",
       "</div>"
      ],
      "text/plain": [
       "         Year of event                                   Event name  \\\n",
       "4509986           2007              Scorched Sole Ultra 50 km (CAN)   \n",
       "893317            2016   Pineland Farms 50 Mile Trail Running (USA)   \n",
       "2994490           2021  Rocky Brunch Rivermen 50km Ultra Race (USA)   \n",
       "5231079           2011                   Cumberland Trail 50k (USA)   \n",
       "6511320           2015        Quicksilver 50 km Endurance Run (USA)   \n",
       "\n",
       "        Event distance/length  Event number of finishers Athlete performance  \\\n",
       "4509986                  50km                         29     0 days 07:04:36   \n",
       "893317                   50mi                        127     0 days 08:10:15   \n",
       "2994490                  50km                         18     0 days 08:38:05   \n",
       "5231079                  50km                         43     0 days 08:31:25   \n",
       "6511320                  50km                        154     0 days 08:18:37   \n",
       "\n",
       "        Athlete country Athlete gender  Athlete Age  Athlete average speed  \\\n",
       "4509986             CAN              M           60                  7.065   \n",
       "893317              USA              M           50                  9.848   \n",
       "2994490             USA              M           40                  5.791   \n",
       "5231079             USA              F           50                  5.866   \n",
       "6511320             USA              F           35                  6.017   \n",
       "\n",
       "         Athlete ID month_year  \n",
       "4509986      180717 2007-06-01  \n",
       "893317       182313 2016-05-01  \n",
       "2994490      474522 2021-08-01  \n",
       "5231079       12003 2011-10-01  \n",
       "6511320     1251987 2015-05-01  "
      ]
     },
     "execution_count": 175,
     "metadata": {},
     "output_type": "execute_result"
    }
   ],
   "source": [
    "dfCountry.sample(5)"
   ]
  },
  {
   "cell_type": "code",
   "execution_count": 176,
   "id": "ec3e5938-b340-470a-b802-534a46fbd9f7",
   "metadata": {},
   "outputs": [
    {
     "name": "stderr",
     "output_type": "stream",
     "text": [
      "/var/folders/by/4dfr5wv56g9c4s2hr4sjrcw00000gn/T/ipykernel_95409/2352266082.py:6: FutureWarning: \n",
      "\n",
      "Passing `palette` without assigning `hue` is deprecated and will be removed in v0.14.0. Assign the `x` variable to `hue` and set `legend=False` for the same effect.\n",
      "\n",
      "  sns.countplot(data=dfCountry, x='Year of event', palette='viridis')\n"
     ]
    },
    {
     "data": {
      "image/png": "[encoded data removed]",
      "text/plain": [
       "<Figure size 1200x600 with 1 Axes>"
      ]
     },
     "metadata": {},
     "output_type": "display_data"
    }
   ],
   "source": [
    "import matplotlib.pyplot as plt\n",
    "import seaborn as sns\n",
    "\n",
    "plt.figure(figsize=(12, 6))\n",
    "sns.set_style(\"whitegrid\")\n",
    "sns.countplot(data=dfCountry, x='Year of event', palette='viridis')\n",
    "plt.axhline(y=10000, color='red', linestyle='--', linewidth=2, label='Threshold')\n",
    "plt.title('Number of Ultra-Marathon Race Records per Year (1923–2022)', fontsize=14)\n",
    "plt.xlabel('Year of Event')\n",
    "plt.ylabel('Number of Records')\n",
    "plt.xticks(rotation=45)\n",
    "plt.tight_layout()\n",
    "plt.show()"
   ]
  },
  {
   "cell_type": "code",
   "execution_count": 177,
   "id": "480050d0-6cc1-4f3e-9dd8-e2419a3fa46a",
   "metadata": {},
   "outputs": [],
   "source": [
    "dfCountry = dfCountry[dfCountry['Year of event']>= 1999]"
   ]
  },
  {
   "cell_type": "code",
   "execution_count": 178,
   "id": "cfa2979f-d909-4da7-ab8a-f909629e5eb8",
   "metadata": {},
   "outputs": [],
   "source": [
    "dfCountry.reset_index(drop=True, inplace=True)"
   ]
  },
  {
   "cell_type": "code",
   "execution_count": 179,
   "id": "7af79e12-dec2-40e6-8248-873eab90fb5a",
   "metadata": {},
   "outputs": [
    {
     "name": "stderr",
     "output_type": "stream",
     "text": [
      "/var/folders/by/4dfr5wv56g9c4s2hr4sjrcw00000gn/T/ipykernel_95409/2421520893.py:3: FutureWarning: \n",
      "\n",
      "Passing `palette` without assigning `hue` is deprecated and will be removed in v0.14.0. Assign the `x` variable to `hue` and set `legend=False` for the same effect.\n",
      "\n",
      "  sns.countplot(data=dfCountry, x='Year of event', palette='viridis')\n"
     ]
    },
    {
     "data": {
      "image/png": "[encoded data removed]",
      "text/plain": [
       "<Figure size 1200x600 with 1 Axes>"
      ]
     },
     "metadata": {},
     "output_type": "display_data"
    }
   ],
   "source": [
    "plt.figure(figsize=(12, 6))\n",
    "sns.set_style(\"whitegrid\")\n",
    "sns.countplot(data=dfCountry, x='Year of event', palette='viridis')\n",
    "plt.title('Number of Ultra-Marathon Race Records per Year (1923–2022)', fontsize=14)\n",
    "plt.xlabel('Year of Event')\n",
    "plt.ylabel('Number of Records')\n",
    "plt.xticks(rotation=45)\n",
    "plt.tight_layout()\n",
    "plt.show()"
   ]
  },
  {
   "cell_type": "code",
   "execution_count": 180,
   "id": "6084c56f-f17d-483b-9e14-14e0e55cb87f",
   "metadata": {},
   "outputs": [],
   "source": [
    "dfCountry.to_csv('ultra_northamerica_classic.csv', index=False)"
   ]
  }
 ],
 "metadata": {
  "kernelspec": {
   "display_name": "Python 3 (ipykernel)",
   "language": "python",
   "name": "python3"
  },
  "language_info": {
   "codemirror_mode": {
    "name": "ipython",
    "version": 3
   },
   "file_extension": ".py",
   "mimetype": "text/x-python",
   "name": "python",
   "nbconvert_exporter": "python",
   "pygments_lexer": "ipython3",
   "version": "3.12.7"
  }
 },
 "nbformat": 4,
 "nbformat_minor": 5
}
