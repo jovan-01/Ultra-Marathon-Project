{
 "cells": [
  {
   "cell_type": "code",
   "execution_count": 9,
   "id": "fb66b8d2-1a6e-45d5-9575-9f9970c55dfb",
   "metadata": {},
   "outputs": [],
   "source": [
    "import pandas as pd\n",
    "import seaborn as sns\n",
    "import statsmodels.formula.api as smf"
   ]
  },
  {
   "cell_type": "code",
   "execution_count": 22,
   "id": "75df10c2-2620-46cc-a4cd-240044439cef",
   "metadata": {},
   "outputs": [],
   "source": [
    "df = pd.read_csv('ultra_northamerica_classic.csv')"
   ]
  },
  {
   "cell_type": "code",
   "execution_count": 23,
   "id": "2fe41b49-7f02-4774-a893-c7b6927f883d",
   "metadata": {},
   "outputs": [
    {
     "data": {
      "text/html": [
       "<div>\n",
       "<style scoped>\n",
       "    .dataframe tbody tr th:only-of-type {\n",
       "        vertical-align: middle;\n",
       "    }\n",
       "\n",
       "    .dataframe tbody tr th {\n",
       "        vertical-align: top;\n",
       "    }\n",
       "\n",
       "    .dataframe thead th {\n",
       "        text-align: right;\n",
       "    }\n",
       "</style>\n",
       "<table border=\"1\" class=\"dataframe\">\n",
       "  <thead>\n",
       "    <tr style=\"text-align: right;\">\n",
       "      <th></th>\n",
       "      <th>Year of event</th>\n",
       "      <th>Event name</th>\n",
       "      <th>Event distance/length</th>\n",
       "      <th>Event number of finishers</th>\n",
       "      <th>Athlete performance</th>\n",
       "      <th>Athlete country</th>\n",
       "      <th>Athlete gender</th>\n",
       "      <th>Athlete Age</th>\n",
       "      <th>Athlete average speed</th>\n",
       "      <th>Athlete ID</th>\n",
       "      <th>month_year</th>\n",
       "    </tr>\n",
       "  </thead>\n",
       "  <tbody>\n",
       "    <tr>\n",
       "      <th>0</th>\n",
       "      <td>2018</td>\n",
       "      <td>Yankee Springs 50 Mile Winter Challenge (USA)</td>\n",
       "      <td>50mi</td>\n",
       "      <td>9</td>\n",
       "      <td>0 days 09:53:05</td>\n",
       "      <td>USA</td>\n",
       "      <td>M</td>\n",
       "      <td>23</td>\n",
       "      <td>8.141</td>\n",
       "      <td>55</td>\n",
       "      <td>2018-01-01</td>\n",
       "    </tr>\n",
       "    <tr>\n",
       "      <th>1</th>\n",
       "      <td>2018</td>\n",
       "      <td>Yankee Springs 50 Mile Winter Challenge (USA)</td>\n",
       "      <td>50mi</td>\n",
       "      <td>9</td>\n",
       "      <td>0 days 11:09:35</td>\n",
       "      <td>CAN</td>\n",
       "      <td>F</td>\n",
       "      <td>40</td>\n",
       "      <td>7.211</td>\n",
       "      <td>56</td>\n",
       "      <td>2018-01-01</td>\n",
       "    </tr>\n",
       "    <tr>\n",
       "      <th>2</th>\n",
       "      <td>2018</td>\n",
       "      <td>Yankee Springs 50 Mile Winter Challenge (USA)</td>\n",
       "      <td>50mi</td>\n",
       "      <td>9</td>\n",
       "      <td>0 days 11:33:00</td>\n",
       "      <td>CAN</td>\n",
       "      <td>M</td>\n",
       "      <td>40</td>\n",
       "      <td>6.967</td>\n",
       "      <td>57</td>\n",
       "      <td>2018-01-01</td>\n",
       "    </tr>\n",
       "    <tr>\n",
       "      <th>3</th>\n",
       "      <td>2018</td>\n",
       "      <td>Yankee Springs 50 Mile Winter Challenge (USA)</td>\n",
       "      <td>50mi</td>\n",
       "      <td>9</td>\n",
       "      <td>0 days 11:38:17</td>\n",
       "      <td>USA</td>\n",
       "      <td>M</td>\n",
       "      <td>23</td>\n",
       "      <td>6.914</td>\n",
       "      <td>58</td>\n",
       "      <td>2018-01-01</td>\n",
       "    </tr>\n",
       "    <tr>\n",
       "      <th>4</th>\n",
       "      <td>2018</td>\n",
       "      <td>Yankee Springs 50 Mile Winter Challenge (USA)</td>\n",
       "      <td>50mi</td>\n",
       "      <td>9</td>\n",
       "      <td>0 days 11:56:35</td>\n",
       "      <td>USA</td>\n",
       "      <td>M</td>\n",
       "      <td>23</td>\n",
       "      <td>6.738</td>\n",
       "      <td>59</td>\n",
       "      <td>2018-01-01</td>\n",
       "    </tr>\n",
       "  </tbody>\n",
       "</table>\n",
       "</div>"
      ],
      "text/plain": [
       "   Year of event                                     Event name  \\\n",
       "0           2018  Yankee Springs 50 Mile Winter Challenge (USA)   \n",
       "1           2018  Yankee Springs 50 Mile Winter Challenge (USA)   \n",
       "2           2018  Yankee Springs 50 Mile Winter Challenge (USA)   \n",
       "3           2018  Yankee Springs 50 Mile Winter Challenge (USA)   \n",
       "4           2018  Yankee Springs 50 Mile Winter Challenge (USA)   \n",
       "\n",
       "  Event distance/length  Event number of finishers Athlete performance  \\\n",
       "0                  50mi                          9     0 days 09:53:05   \n",
       "1                  50mi                          9     0 days 11:09:35   \n",
       "2                  50mi                          9     0 days 11:33:00   \n",
       "3                  50mi                          9     0 days 11:38:17   \n",
       "4                  50mi                          9     0 days 11:56:35   \n",
       "\n",
       "  Athlete country Athlete gender  Athlete Age  Athlete average speed  \\\n",
       "0             USA              M           23                  8.141   \n",
       "1             CAN              F           40                  7.211   \n",
       "2             CAN              M           40                  6.967   \n",
       "3             USA              M           23                  6.914   \n",
       "4             USA              M           23                  6.738   \n",
       "\n",
       "   Athlete ID  month_year  \n",
       "0          55  2018-01-01  \n",
       "1          56  2018-01-01  \n",
       "2          57  2018-01-01  \n",
       "3          58  2018-01-01  \n",
       "4          59  2018-01-01  "
      ]
     },
     "execution_count": 23,
     "metadata": {},
     "output_type": "execute_result"
    }
   ],
   "source": [
    "df.head()"
   ]
  },
  {
   "cell_type": "code",
   "execution_count": 24,
   "id": "97537f74-d9ce-40c7-883e-2f576ef6a657",
   "metadata": {},
   "outputs": [],
   "source": [
    "df_50km = df[df['Event distance/length'] == '50km'].copy()\n",
    "df_50mi = df[df['Event distance/length'] == '50mi'].copy()"
   ]
  },
  {
   "cell_type": "code",
   "execution_count": 25,
   "id": "f398b28e-bd22-4fb8-b086-cb95399dec80",
   "metadata": {},
   "outputs": [],
   "source": [
    "df_50km['Gender_encoded'] = df_50km['Athlete gender'].map({'M': 0, 'F': 1})\n",
    "df_50mi['Gender_encoded'] = df_50mi['Athlete gender'].map({'M': 0, 'F': 1})"
   ]
  },
  {
   "cell_type": "code",
   "execution_count": 27,
   "id": "d3d90410-50f7-4369-b411-eb2892e91eb1",
   "metadata": {},
   "outputs": [],
   "source": [
    "# 50km model\n",
    "model_50k = smf.ols('Q(\"Athlete average speed\") ~ Q(\"Year of event\") + Q(\"Athlete Age\") + Gender_encoded', data=df_50km).fit()"
   ]
  },
  {
   "cell_type": "code",
   "execution_count": 28,
   "id": "34a1e1b0-956f-4cbd-9033-eb23fdbffedc",
   "metadata": {},
   "outputs": [],
   "source": [
    "# 50mi model\n",
    "model_50mi = smf.ols('Q(\"Athlete average speed\") ~ Q(\"Year of event\") + Q(\"Athlete Age\") + Gender_encoded', data=df_50mi).fit()"
   ]
  },
  {
   "cell_type": "code",
   "execution_count": 29,
   "id": "bce65f49-c1a1-40e9-8a47-b711f3bd2edf",
   "metadata": {},
   "outputs": [
    {
     "name": "stdout",
     "output_type": "stream",
     "text": [
      "                                OLS Regression Results                                \n",
      "======================================================================================\n",
      "Dep. Variable:     Q(\"Athlete average speed\")   R-squared:                       0.113\n",
      "Model:                                    OLS   Adj. R-squared:                  0.113\n",
      "Method:                         Least Squares   F-statistic:                 2.697e+04\n",
      "Date:                        Sun, 04 May 2025   Prob (F-statistic):               0.00\n",
      "Time:                                16:44:09   Log-Likelihood:            -1.2155e+06\n",
      "No. Observations:                      634492   AIC:                         2.431e+06\n",
      "Df Residuals:                          634488   BIC:                         2.431e+06\n",
      "Df Model:                                   3                                         \n",
      "Covariance Type:                    nonrobust                                         \n",
      "======================================================================================\n",
      "                         coef    std err          t      P>|t|      [0.025      0.975]\n",
      "--------------------------------------------------------------------------------------\n",
      "Intercept            127.1758      0.742    171.303      0.000     125.721     128.631\n",
      "Q(\"Year of event\")    -0.0586      0.000   -159.063      0.000      -0.059      -0.058\n",
      "Q(\"Athlete Age\")      -0.0317      0.000   -179.765      0.000      -0.032      -0.031\n",
      "Gender_encoded        -0.7368      0.004   -167.682      0.000      -0.745      -0.728\n",
      "==============================================================================\n",
      "Omnibus:                    48360.404   Durbin-Watson:                   0.330\n",
      "Prob(Omnibus):                  0.000   Jarque-Bera (JB):            84017.084\n",
      "Skew:                           0.567   Prob(JB):                         0.00\n",
      "Kurtosis:                       4.375   Cond. No.                     7.25e+05\n",
      "==============================================================================\n",
      "\n",
      "Notes:\n",
      "[1] Standard Errors assume that the covariance matrix of the errors is correctly specified.\n",
      "[2] The condition number is large, 7.25e+05. This might indicate that there are\n",
      "strong multicollinearity or other numerical problems.\n"
     ]
    }
   ],
   "source": [
    "print(model_50k.summary())"
   ]
  },
  {
   "cell_type": "code",
   "execution_count": 30,
   "id": "600c0bf5-6c4c-48a0-b563-4dbb28454108",
   "metadata": {},
   "outputs": [
    {
     "name": "stdout",
     "output_type": "stream",
     "text": [
      "                                OLS Regression Results                                \n",
      "======================================================================================\n",
      "Dep. Variable:     Q(\"Athlete average speed\")   R-squared:                       0.098\n",
      "Model:                                    OLS   Adj. R-squared:                  0.098\n",
      "Method:                         Least Squares   F-statistic:                     9002.\n",
      "Date:                        Sun, 04 May 2025   Prob (F-statistic):               0.00\n",
      "Time:                                16:44:12   Log-Likelihood:            -4.3458e+05\n",
      "No. Observations:                      247616   AIC:                         8.692e+05\n",
      "Df Residuals:                          247612   BIC:                         8.692e+05\n",
      "Df Model:                                   3                                         \n",
      "Covariance Type:                    nonrobust                                         \n",
      "======================================================================================\n",
      "                         coef    std err          t      P>|t|      [0.025      0.975]\n",
      "--------------------------------------------------------------------------------------\n",
      "Intercept            109.2881      0.955    114.428      0.000     107.416     111.160\n",
      "Q(\"Year of event\")    -0.0500      0.000   -105.545      0.000      -0.051      -0.049\n",
      "Q(\"Athlete Age\")      -0.0262      0.000   -106.069      0.000      -0.027      -0.026\n",
      "Gender_encoded        -0.4962      0.006    -78.316      0.000      -0.509      -0.484\n",
      "==============================================================================\n",
      "Omnibus:                    31493.810   Durbin-Watson:                   0.302\n",
      "Prob(Omnibus):                  0.000   Jarque-Bera (JB):            65663.622\n",
      "Skew:                           0.790   Prob(JB):                         0.00\n",
      "Kurtosis:                       4.967   Cond. No.                     6.84e+05\n",
      "==============================================================================\n",
      "\n",
      "Notes:\n",
      "[1] Standard Errors assume that the covariance matrix of the errors is correctly specified.\n",
      "[2] The condition number is large, 6.84e+05. This might indicate that there are\n",
      "strong multicollinearity or other numerical problems.\n"
     ]
    }
   ],
   "source": [
    "print(model_50mi.summary())"
   ]
  },
  {
   "cell_type": "code",
   "execution_count": 33,
   "id": "423facb2-0f5b-44ee-8ecb-5bc14bb0bdbe",
   "metadata": {},
   "outputs": [],
   "source": [
    "model_50k_interact = smf.ols('Q(\"Athlete average speed\") ~ Q(\"Year of event\") * Gender_encoded + Q(\"Athlete Age\")', data=df_50km).fit()"
   ]
  },
  {
   "cell_type": "code",
   "execution_count": 34,
   "id": "eda6203e-00db-4500-bdf5-fd6f27f6b5ad",
   "metadata": {},
   "outputs": [
    {
     "name": "stdout",
     "output_type": "stream",
     "text": [
      "                                OLS Regression Results                                \n",
      "======================================================================================\n",
      "Dep. Variable:     Q(\"Athlete average speed\")   R-squared:                       0.113\n",
      "Model:                                    OLS   Adj. R-squared:                  0.113\n",
      "Method:                         Least Squares   F-statistic:                 2.027e+04\n",
      "Date:                        Sun, 04 May 2025   Prob (F-statistic):               0.00\n",
      "Time:                                17:02:20   Log-Likelihood:            -1.2154e+06\n",
      "No. Observations:                      634492   AIC:                         2.431e+06\n",
      "Df Residuals:                          634487   BIC:                         2.431e+06\n",
      "Df Model:                                   4                                         \n",
      "Covariance Type:                    nonrobust                                         \n",
      "=====================================================================================================\n",
      "                                        coef    std err          t      P>|t|      [0.025      0.975]\n",
      "-----------------------------------------------------------------------------------------------------\n",
      "Intercept                           133.5373      0.895    149.188      0.000     131.783     135.292\n",
      "Q(\"Year of event\")                   -0.0618      0.000   -139.029      0.000      -0.063      -0.061\n",
      "Gender_encoded                      -21.0832      1.600    -13.179      0.000     -24.219     -17.948\n",
      "Q(\"Year of event\"):Gender_encoded     0.0101      0.001     12.719      0.000       0.009       0.012\n",
      "Q(\"Athlete Age\")                     -0.0318      0.000   -180.084      0.000      -0.032      -0.031\n",
      "==============================================================================\n",
      "Omnibus:                    48401.213   Durbin-Watson:                   0.330\n",
      "Prob(Omnibus):                  0.000   Jarque-Bera (JB):            84184.522\n",
      "Skew:                           0.567   Prob(JB):                         0.00\n",
      "Kurtosis:                       4.377   Cond. No.                     1.76e+06\n",
      "==============================================================================\n",
      "\n",
      "Notes:\n",
      "[1] Standard Errors assume that the covariance matrix of the errors is correctly specified.\n",
      "[2] The condition number is large, 1.76e+06. This might indicate that there are\n",
      "strong multicollinearity or other numerical problems.\n"
     ]
    }
   ],
   "source": [
    "print(model_50k_interact.summary())"
   ]
  },
  {
   "cell_type": "code",
   "execution_count": 35,
   "id": "925ed6da-57d0-4fed-aa1d-b033d91d2ca6",
   "metadata": {},
   "outputs": [],
   "source": [
    "model_50mi_interact = smf.ols('Q(\"Athlete average speed\") ~ Q(\"Year of event\") * Gender_encoded + Q(\"Athlete Age\")', data=df_50mi).fit()"
   ]
  },
  {
   "cell_type": "code",
   "execution_count": 36,
   "id": "e5fb264b-d627-4826-91d3-620bf21b2c13",
   "metadata": {},
   "outputs": [
    {
     "name": "stdout",
     "output_type": "stream",
     "text": [
      "                                OLS Regression Results                                \n",
      "======================================================================================\n",
      "Dep. Variable:     Q(\"Athlete average speed\")   R-squared:                       0.098\n",
      "Model:                                    OLS   Adj. R-squared:                  0.098\n",
      "Method:                         Least Squares   F-statistic:                     6751.\n",
      "Date:                        Sun, 04 May 2025   Prob (F-statistic):               0.00\n",
      "Time:                                17:03:14   Log-Likelihood:            -4.3458e+05\n",
      "No. Observations:                      247616   AIC:                         8.692e+05\n",
      "Df Residuals:                          247611   BIC:                         8.692e+05\n",
      "Df Model:                                   4                                         \n",
      "Covariance Type:                    nonrobust                                         \n",
      "=====================================================================================================\n",
      "                                        coef    std err          t      P>|t|      [0.025      0.975]\n",
      "-----------------------------------------------------------------------------------------------------\n",
      "Intercept                           109.7400      1.105     99.293      0.000     107.574     111.906\n",
      "Q(\"Year of event\")                   -0.0503      0.001    -91.609      0.000      -0.051      -0.049\n",
      "Gender_encoded                       -2.2758      2.190     -1.039      0.299      -6.568       2.017\n",
      "Q(\"Year of event\"):Gender_encoded     0.0009      0.001      0.813      0.416      -0.001       0.003\n",
      "Q(\"Athlete Age\")                     -0.0262      0.000   -106.051      0.000      -0.027      -0.026\n",
      "==============================================================================\n",
      "Omnibus:                    31492.877   Durbin-Watson:                   0.302\n",
      "Prob(Omnibus):                  0.000   Jarque-Bera (JB):            65663.808\n",
      "Skew:                           0.790   Prob(JB):                         0.00\n",
      "Kurtosis:                       4.967   Cond. No.                     1.70e+06\n",
      "==============================================================================\n",
      "\n",
      "Notes:\n",
      "[1] Standard Errors assume that the covariance matrix of the errors is correctly specified.\n",
      "[2] The condition number is large, 1.7e+06. This might indicate that there are\n",
      "strong multicollinearity or other numerical problems.\n"
     ]
    }
   ],
   "source": [
    "print(model_50mi_interact.summary())"
   ]
  },
  {
   "cell_type": "code",
   "execution_count": null,
   "id": "df9b787f-3086-4627-8d3a-d00b39f1c987",
   "metadata": {},
   "outputs": [],
   "source": []
  }
 ],
 "metadata": {
  "kernelspec": {
   "display_name": "statsmodels",
   "language": "python",
   "name": "statsmodels"
  },
  "language_info": {
   "codemirror_mode": {
    "name": "ipython",
    "version": 3
   },
   "file_extension": ".py",
   "mimetype": "text/x-python",
   "name": "python",
   "nbconvert_exporter": "python",
   "pygments_lexer": "ipython3",
   "version": "3.12.7"
  }
 },
 "nbformat": 4,
 "nbformat_minor": 5
}
